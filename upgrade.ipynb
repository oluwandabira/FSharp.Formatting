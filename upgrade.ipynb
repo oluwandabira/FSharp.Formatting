
        {
            "cells": [
          {
           "cell_type": "markdown",
           "metadata": {},
           
           "source": ["// can\u0027t yet format YamlFrontmatter ([\"category: Advanced\"; \"categoryindex: 3\"; \"index: 1\"], Some { StartLine = 1 StartColumn = 0 EndLine = 4 EndColumn = 8 }) to pynb markdown\n",
"\n",
"# Upgrading to fsdocs\n",
"\n",
"Here are the typical steps to upgrade a repo based on `ProjectScaffold` to use `fsdocs`\n",
"\n",
"// can\u0027t yet format ListBlock (Ordered, [[Paragraph ([Literal (\"Run\", Some { StartLine = 0 StartColumn = 0 EndLine = 0 EndColumn = 3 })], Some { StartLine = 0 StartColumn = 0 EndLine = 0 EndColumn = 0 }); OtherBlock ([(\"    [lang=text]\", { StartLine = 13 StartColumn = 3 EndLine = 13 EndColumn = 18 }); (\"    dotnet new tool\", { StartLine = 14 StartColumn = 3 EndLine = 14 EndColumn = 22 }); (\"    dotnet tool install fsdocs-tool\", { StartLine = 15 StartColumn = 3 EndLine = 15 EndColumn = 38 }); (\"\", { StartLine = 16 StartColumn = 0 EndLine = 16 EndColumn = 0 })], Some { StartLine = 13 StartColumn = 3 EndLine = 13 EndColumn = 18 })]; [Paragraph ([Literal (\"Delete all of \", Some { StartLine = 0 StartColumn = 0 EndLine = 0 EndColumn = 14 }); InlineCode (\"docs\\tools\", Some { StartLine = 0 StartColumn = 15 EndLine = 0 EndColumn = -1 }); Literal (\" particularly \", Some { StartLine = 0 StartColumn = 14 EndLine = 0 EndColumn = 28 }); InlineCode (\"docs\\tool\\generate.fsx\", Some { StartLine = 0 StartColumn = 29 EndLine = 0 EndColumn = -1 }); Literal (\".  Keep a copy of any templates for reference as you\u0027ll have to copy some bits across to the new template.\", Some { StartLine = 0 StartColumn = 28 EndLine = 0 EndColumn = 134 })], Some { StartLine = 0 StartColumn = 0 EndLine = 0 EndColumn = 0 })]; [Paragraph ([Literal (\"Put your docs directory so it reflects the final shape of the site. For example move the content of \", Some { StartLine = 0 StartColumn = 0 EndLine = 0 EndColumn = 100 }); InlineCode (\"docs\\input\\*\", Some { StartLine = 0 StartColumn = 101 EndLine = 0 EndColumn = -1 }); Literal (\" and \", Some { StartLine = 0 StartColumn = 100 EndLine = 0 EndColumn = 105 }); InlineCode (\"docs\\files\\*\", Some { StartLine = 0 StartColumn = 106 EndLine = 0 EndColumn = -1 }); Literal (\" directly to \", Some { StartLine = 0 StartColumn = 105 EndLine = 0 EndColumn = 118 }); InlineCode (\"docs\\*\", Some { StartLine = 0 StartColumn = 119 EndLine = 0 EndColumn = -1 })], Some { StartLine = 0 StartColumn = 0 EndLine = 0 EndColumn = 0 })]; [Paragraph ([Literal (\"Follow the notes in \", Some { StartLine = 0 StartColumn = 0 EndLine = 0 EndColumn = 20 }); DirectLink ([Literal (\"styling\", Some { StartLine = 0 StartColumn = 20 EndLine = 0 EndColumn = 27 })], \"styling.html\", None, Some { StartLine = 0 StartColumn = 20 EndLine = 0 EndColumn = 0 }); Literal (\" to start to style your site.\", Some { StartLine = 0 StartColumn = 20 EndLine = 0 EndColumn = 49 })], Some { StartLine = 0 StartColumn = 0 EndLine = 0 EndColumn = 0 })]; [Paragraph ([Literal (\"Run\", Some { StartLine = 0 StartColumn = 0 EndLine = 0 EndColumn = 3 })], Some { StartLine = 0 StartColumn = 0 EndLine = 0 EndColumn = 0 }); OtherBlock ([(\"    [lang=text]\", { StartLine = 25 StartColumn = 3 EndLine = 25 EndColumn = 18 }); (\"    dotnet fsdocs watch\", { StartLine = 26 StartColumn = 3 EndLine = 26 EndColumn = 26 }); (\"\", { StartLine = 27 StartColumn = 0 EndLine = 27 EndColumn = 0 })], Some { StartLine = 25 StartColumn = 3 EndLine = 25 EndColumn = 18 }); Paragraph ([Literal (\"and edit and test your docs.\", Some { StartLine = 28 StartColumn = 3 EndLine = 28 EndColumn = 31 })], Some { StartLine = 28 StartColumn = 3 EndLine = 28 EndColumn = 31 })]; [Paragraph ([Literal (\"If using FAKE adjust \", Some { StartLine = 0 StartColumn = 0 EndLine = 0 EndColumn = 21 }); InlineCode (\"build.fsx\", Some { StartLine = 0 StartColumn = 22 EndLine = 0 EndColumn = -1 }); Literal (\" e.g.\", Some { StartLine = 0 StartColumn = 21 EndLine = 0 EndColumn = 26 })], Some { StartLine = 0 StartColumn = 0 EndLine = 0 EndColumn = 0 }); OtherBlock ([(\"    [lang=text]\", { StartLine = 32 StartColumn = 3 EndLine = 32 EndColumn = 18 }); (\"    Target.create \"GenerateDocs\" (fun _ -\u003e\", { StartLine = 33 StartColumn = 3 EndLine = 33 EndColumn = 45 }); (\"       Shell.cleanDir \".fsdocs\"\", { StartLine = 34 StartColumn = 3 EndLine = 34 EndColumn = 34 }); (\"       DotNet.exec id \"fsdocs\" \"build --clean\" |\u003e ignore\", { StartLine = 35 StartColumn = 3 EndLine = 35 EndColumn = 59 }); (\"    )\", { StartLine = 36 StartColumn = 3 EndLine = 36 EndColumn = 8 }); (\"    \", { StartLine = 37 StartColumn = 3 EndLine = 37 EndColumn = 7 }); (\"    Target.create \"ReleaseDocs\" (fun _ -\u003e\", { StartLine = 38 StartColumn = 3 EndLine = 38 EndColumn = 44 }); (\"        Git.Repository.clone \"\" projectRepo \"temp/gh-pages\"\", { StartLine = 39 StartColumn = 3 EndLine = 39 EndColumn = 62 }); (\"        Git.Branches.checkoutBranch \"temp/gh-pages\" \"gh-pages\"\", { StartLine = 40 StartColumn = 3 EndLine = 40 EndColumn = 65 }); (\"        Shell.copyRecursive \"output\" \"temp/gh-pages\" true |\u003e printfn \"%A\"\", { StartLine = 41 StartColumn = 3 EndLine = 41 EndColumn = 76 }); (\"        Git.CommandHelper.runSimpleGitCommand \"temp/gh-pages\" \"add .\" |\u003e printfn \"%s\"\", { StartLine = 42 StartColumn = 3 EndLine = 42 EndColumn = 88 }); (\"        let cmd = sprintf \"\"\"commit -a -m \"Update generated documentation for version %s\"\"\" release.NugetVersion\", { StartLine = 43 StartColumn = 3 EndLine = 43 EndColumn = 115 }); (\"        Git.CommandHelper.runSimpleGitCommand \"temp/gh-pages\" cmd |\u003e printfn \"%s\"\", { StartLine = 44 StartColumn = 3 EndLine = 44 EndColumn = 84 }); (\"        Git.Branches.push \"temp/gh-pages\"\", { StartLine = 45 StartColumn = 3 EndLine = 45 EndColumn = 44 }); (\"    )\", { StartLine = 46 StartColumn = 3 EndLine = 46 EndColumn = 8 }); (\"\", { StartLine = 47 StartColumn = 0 EndLine = 47 EndColumn = 0 })], Some { StartLine = 32 StartColumn = 3 EndLine = 32 EndColumn = 18 })]; [Paragraph ([Literal (\"Consider creating \", Some { StartLine = 0 StartColumn = 0 EndLine = 0 EndColumn = 18 }); InlineCode (\"docs\\_template.fsx\", Some { StartLine = 0 StartColumn = 19 EndLine = 0 EndColumn = -1 }); Literal (\" and \", Some { StartLine = 0 StartColumn = 18 EndLine = 0 EndColumn = 23 }); InlineCode (\"docs\\_template.ipynb\", Some { StartLine = 0 StartColumn = 24 EndLine = 0 EndColumn = -1 }); Literal (\" to enable co-generation of F# scripts and F# notebooks.\", Some { StartLine = 0 StartColumn = 23 EndLine = 0 EndColumn = 79 })], Some { StartLine = 0 StartColumn = 0 EndLine = 0 EndColumn = 0 }); Paragraph ([Literal (\"If you add support for notebooks and scripts, consider adding mybinder links to each of your literate executable content pages. For example \", Some { StartLine = 50 StartColumn = 3 EndLine = 50 EndColumn = 143 }); DirectLink ([Literal (\"like this\", Some { StartLine = 50 StartColumn = 143 EndLine = 50 EndColumn = 152 })], \"https://github.com/fsprojects/FSharp.Formatting/blob/master/docs/literate.fsx#L19\", None, Some { StartLine = 50 StartColumn = 143 EndLine = 50 EndColumn = 238 }); Literal (\".\", Some { StartLine = 50 StartColumn = 143 EndLine = 50 EndColumn = 144 })], Some { StartLine = 50 StartColumn = 3 EndLine = 50 EndColumn = 238 }); Paragraph ([Literal (\"Also add load sections to make sure your notebooks and scripts contain the right content to load packages out of repo.  For example \", Some { StartLine = 52 StartColumn = 3 EndLine = 52 EndColumn = 135 }); DirectLink ([Literal (\"like this\", Some { StartLine = 52 StartColumn = 135 EndLine = 52 EndColumn = 144 })], \"https://github.com/fsprojects/FSharp.Formatting/blob/master/docs/literate.fsx#L1\", None, Some { StartLine = 52 StartColumn = 135 EndLine = 52 EndColumn = 229 }); Literal (\".\", Some { StartLine = 52 StartColumn = 135 EndLine = 52 EndColumn = 136 })], Some { StartLine = 52 StartColumn = 3 EndLine = 52 EndColumn = 229 })]], Some { StartLine = 11 StartColumn = 0 EndLine = 11 EndColumn = 6 }) to pynb markdown\n",
"\n",
"Sample commands:\n",
"\n",
"    [lang=text]\n",
"    dotnet tool install fsdocs-tool --local\n",
"    git add dotnet-tools.json   \n",
"    git rm -fr docs/tools\n",
"    git mv docs/input/* docs\n",
"    git mv docs/files/* docs\n",
"    \n",
"    \u003cmanually download and fixup the _template.html\u003e\n",
"\n",
"    dotnet fsdocs watch\n",
"\n",
"    touch docs/_template.fsx\n",
"    touch docs/_template.ipynb\n",
"    git add docs/_template.fsx\n",
"    git add docs/_template.ipynb\n",
"\n",
"Here is an example PR: [https://github.com/fsprojects/FSharp.Control.AsyncSeq/pull/116](https://github.com/fsprojects/FSharp.Control.AsyncSeq/pull/116)\n",
"\n"]
          }],
            "metadata": {
            "kernelspec": {"display_name": ".NET (F#)", "language": "F#", "name": ".net-fsharp"},
            "langauge_info": {
        "file_extension": ".fs",
        "mimetype": "text/x-fsharp",
        "name": "C#",
        "pygments_lexer": "fsharp",
        "version": "4.5"
        }
        },
            "nbformat": 4,
            "nbformat_minor": 1
        }
        

