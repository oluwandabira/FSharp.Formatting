
        {
            "cells": [
          {
           "cell_type": "markdown",
           "metadata": {},
           
           "source": ["// can\u0027t yet format YamlFrontmatter ([\"title: Literate Script\"; \"category: Examples\"; \"categoryindex: 2\"; \"index: 1\"], Some { StartLine = 2 StartColumn = 0 EndLine = 6 EndColumn = 8 }) to pynb markdown\n",
"\n",
"# Example: Using Literate Script Content\n",
"\n",
"This file demonstrates how to write literate F# script\n",
"files (`*.fsx`) that can be transformed into nice HTML\n",
"using the `literate.fsx` script from the [F# Formatting\n",
"package](http://fsprojects.github.io/FSharp.Formatting).\n",
"\n",
"As you can see, a comment starting with double asterisk\n",
"is treated as part of the document and is transformed\n",
"using Markdown, which means that you can use:\n",
"\n",
"// can\u0027t yet format Span ([Literal (\"Unordered or ordered lists\", Some { StartLine = 19 StartColumn = 3 EndLine = 19 EndColumn = 29 })], Some { StartLine = 19 StartColumn = 0 EndLine = 19 EndColumn = 29 }) to pynb markdown\n",
"// can\u0027t yet format Span ([Literal (\"Text formatting including \", Some { StartLine = 20 StartColumn = 3 EndLine = 21 EndColumn = 29 }); Strong ([Literal (\"bold\", Some { StartLine = 20 StartColumn = 29 EndLine = 21 EndColumn = 33 })], Some { StartLine = 20 StartColumn = 29 EndLine = 21 EndColumn = -1 }); Literal (\" and \", Some { StartLine = 20 StartColumn = 29 EndLine = 21 EndColumn = 34 }); Emphasis ([Literal (\"emphasis\", Some { StartLine = 20 StartColumn = 34 EndLine = 21 EndColumn = 42 })], Some { StartLine = 20 StartColumn = 34 EndLine = 21 EndColumn = -1 })], Some { StartLine = 19 StartColumn = 0 EndLine = 19 EndColumn = 29 }) to pynb markdown\n",
"And numerous other [Markdown](http://daringfireball.net/projects/markdown) features.\n",
"\n",
"## Writing F# code\n",
"\n",
"Code that is not inside comment will be formatted as\n",
"a sample snippet.\n",
"\n"]
          }
,
          {
           "cell_type": "code",
           "metadata": {},
            "execution_count": null, "outputs": [],
           "source": ["/// The Hello World of functional languages!\n",
"let rec factorial x =\n",
"    if x = 0 then\n",
"        1\n",
"    else\n",
"        x * (factorial (x - 1))\n",
"\n",
"let f10 = factorial 10\n"]
          }
,
          {
           "cell_type": "markdown",
           "metadata": {},
           
           "source": ["## Hiding code\n",
"\n",
"If you want to include some code in the source code,\n",
"but omit it from the output, you can use the `hide`\n",
"command.\n",
"\n",
"The value will be defined in the F# code and so you\n",
"can use it from other (visible) code and get correct\n",
"tool tips:\n",
"\n"]
          }
,
          {
           "cell_type": "code",
           "metadata": {},
            "execution_count": null, "outputs": [],
           "source": ["let answer = hidden\n"]
          }
,
          {
           "cell_type": "markdown",
           "metadata": {},
           
           "source": ["## Moving code around\n",
"\n",
"Sometimes, it is useful to first explain some code that\n",
"has to be located at the end of the snippet (perhaps\n",
"because it uses some definitions discussed in the middle).\n",
"This can be done using `include` and `define` commands.\n",
"\n",
"The following snippet gets correct tool tips, even though\n",
"it uses `laterFunction`:\n",
"\n"]
          }
,
          {
           "cell_type": "code",
           "metadata": {},
            "execution_count": null, "outputs": [],
           "source": ["let sample = laterFunction () |\u003e printfn \"Got: %s\"\n"]
          }
,
          {
           "cell_type": "markdown",
           "metadata": {},
           
           "source": ["Then we can explain how `laterFunction` is defined:\n",
"\n"]
          }
,
          {
           "cell_type": "code",
           "metadata": {},
            "execution_count": null, "outputs": [],
           "source": ["let laterFunction () = \"Not very difficult, is it?\"\n"]
          }
,
          {
           "cell_type": "markdown",
           "metadata": {},
           
           "source": ["This example covers pretty much all features that are\n",
"currently implemented in `literate.fsx`, but feel free\n",
"to [fork the project on GitHub](https://github.com/fsprojects/FSharp.Formatting) and add more\n",
"features or report bugs!\n",
"\n"]
          }],
            "metadata": {
            "kernelspec": {"display_name": ".NET (F#)", "language": "F#", "name": ".net-fsharp"},
            "langauge_info": {
        "file_extension": ".fs",
        "mimetype": "text/x-fsharp",
        "name": "C#",
        "pygments_lexer": "fsharp",
        "version": "4.5"
        }
        },
            "nbformat": 4,
            "nbformat_minor": 1
        }
        

