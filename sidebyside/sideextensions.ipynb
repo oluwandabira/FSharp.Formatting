
        {
            "cells": [
          {
           "cell_type": "markdown",
           "metadata": {},
           
           "source": ["// can\u0027t yet format YamlFrontmatter ([\"title: Markdown LaTeX\"; \"category: Examples\"; \"categoryindex: 2\"; \"index: 3\"], Some { StartLine = 1 StartColumn = 0 EndLine = 5 EndColumn = 8 }) to pynb markdown\n",
"\n",
"# Example: Using the Markdown Extensions for LaTeX\n",
"\n",
"To use LaTex extension, you need add javascript\n",
"link to [MathJax](http://www.mathjax.org/) in\n",
"your template.\n",
"\n",
"To use inline LaTex, eclose LaTex code with `$`:\n",
"$k_{n+1} = n^2 + k_n^2 - k_{n-1}$. Alternatively,\n",
"you can also use `$$`.\n",
"\n",
"To use block LaTex, start a new parapgraph, with\n",
"the first line marked as `$$$` (no close `$$$`):\n",
"\n",
"\\begin{equation}\n",
"A_{m,n} =\n",
" \\begin{pmatrix}\n",
"  a_{1,1} \u0026 a_{1,2} \u0026 \\cdots \u0026 a_{1,n} \\\\\n",
"  a_{2,1} \u0026 a_{2,2} \u0026 \\cdots \u0026 a_{2,n} \\\\\n",
"  \\vdots  \u0026 \\vdots  \u0026 \\ddots \u0026 \\vdots  \\\\\n",
"  a_{m,1} \u0026 a_{m,2} \u0026 \\cdots \u0026 a_{m,n}\n",
" \\end{pmatrix}\n",
"\\end{equation}\n",
"\n",
"Use LaTex escape rule:\n",
"\n",
"// can\u0027t yet format Span ([Literal (\"Escape $ in inline mode: \", Some { StartLine = 32 StartColumn = 2 EndLine = 32 EndColumn = 27 }); LatexInlineMath (\"\\$\", Some { StartLine = 32 StartColumn = 28 EndLine = 32 EndColumn = 30 }); Literal (\", \", Some { StartLine = 32 StartColumn = 28 EndLine = 32 EndColumn = 30 }); LatexInlineMath (\"\\$var\", Some { StartLine = 32 StartColumn = 31 EndLine = 32 EndColumn = 36 })], Some { StartLine = 32 StartColumn = 0 EndLine = 32 EndColumn = 45 }) to pynb markdown\n",
"// can\u0027t yet format Span ([Literal (\"Other escapes: \", Some { StartLine = 33 StartColumn = 2 EndLine = 33 EndColumn = 17 }); LatexInlineMath (\"\\\u0026 \\% \\$ \\# \\_ \\{ \\}\", Some { StartLine = 33 StartColumn = 18 EndLine = 33 EndColumn = 38 })], Some { StartLine = 32 StartColumn = 0 EndLine = 32 EndColumn = 45 }) to pynb markdown\n",
"// can\u0027t yet format Span ([Literal (\"Using \u003c or \u003e: \", Some { StartLine = 34 StartColumn = 2 EndLine = 35 EndColumn = 16 }); LatexInlineMath (\"x \u003e 1\", Some { StartLine = 34 StartColumn = 17 EndLine = 35 EndColumn = 22 }); Literal (\", \", Some { StartLine = 34 StartColumn = 17 EndLine = 35 EndColumn = 19 }); LatexInlineMath (\"y \u003c 1\", Some { StartLine = 34 StartColumn = 20 EndLine = 35 EndColumn = 25 }); Literal (\", \", Some { StartLine = 34 StartColumn = 20 EndLine = 35 EndColumn = 22 }); LatexInlineMath (\"x \u003e= 1\", Some { StartLine = 34 StartColumn = 23 EndLine = 35 EndColumn = 29 }); Literal (\",\n",
"\", Some { StartLine = 34 StartColumn = 23 EndLine = 35 EndColumn = 25 }); LatexInlineMath (\"y \u003c= 1\", Some { StartLine = 34 StartColumn = 26 EndLine = 35 EndColumn = 32 }); Literal (\", \", Some { StartLine = 34 StartColumn = 26 EndLine = 35 EndColumn = 28 }); LatexInlineMath (\"x = 1\", Some { StartLine = 34 StartColumn = 29 EndLine = 35 EndColumn = 34 })], Some { StartLine = 32 StartColumn = 0 EndLine = 32 EndColumn = 45 }) to pynb markdown\n",
"// can\u0027t yet format Span ([LatexInlineMath (\"\u003cp\u003esomething\u003c/p\u003e\", Some { StartLine = 36 StartColumn = 3 EndLine = 36 EndColumn = 19 })], Some { StartLine = 32 StartColumn = 0 EndLine = 32 EndColumn = 45 }) to pynb markdown\n"]
          }],
            "metadata": {
            "kernelspec": {"display_name": ".NET (F#)", "language": "F#", "name": ".net-fsharp"},
            "langauge_info": {
        "file_extension": ".fs",
        "mimetype": "text/x-fsharp",
        "name": "C#",
        "pygments_lexer": "fsharp",
        "version": "4.5"
        }
        },
            "nbformat": 4,
            "nbformat_minor": 1
        }
        

